{
 "cells": [
  {
   "cell_type": "code",
   "execution_count": 2,
   "metadata": {},
   "outputs": [
    {
     "name": "stdout",
     "output_type": "stream",
     "text": [
      "100%|███████████████████████████████████████████████| 2000/2000 [00:12<00:00, 88.82it/s, best loss: -4396.024079287419]\n"
     ]
    }
   ],
   "source": [
    "import numpy as np\n",
    "from hyperopt import hp, tpe, fmin\n",
    "\n",
    "# Single line bayesian optimization of polynomial function\n",
    "best = fmin(fn = lambda x: np.poly1d([1, -2, -28, 28, 12, -26, 100])(x),\n",
    "            space = hp.normal('x', 4.9, 0.5), algo=tpe.suggest, \n",
    "            max_evals = 2000)"
   ]
  },
  {
   "cell_type": "code",
   "execution_count": 73,
   "metadata": {},
   "outputs": [
    {
     "ename": "IndentationError",
     "evalue": "unexpected indent (<ipython-input-73-d081e70ada92>, line 14)",
     "output_type": "error",
     "traceback": [
      "\u001b[1;36m  File \u001b[1;32m\"<ipython-input-73-d081e70ada92>\"\u001b[1;36m, line \u001b[1;32m14\u001b[0m\n\u001b[1;33m    return f(x) * 0.05\u001b[0m\n\u001b[1;37m    ^\u001b[0m\n\u001b[1;31mIndentationError\u001b[0m\u001b[1;31m:\u001b[0m unexpected indent\n"
     ]
    }
   ],
   "source": [
    "from hyperopt import fmin\n",
    "from hyperopt import Trials\n",
    "from hyperopt import tpe\n",
    "from hyperopt import hp\n",
    "import numpy as np\n",
    "import matplotlib.pyplot as plt\n",
    "import pandas as pd\n",
    "\n",
    "def objective(x,y):\n",
    "    \"\"\"Objective function to minimize\"\"\"\n",
    "    # Create the polynomial object\n",
    "    f = np.poly1d([1, -2, -28, 28, 12, -26, 100])\n",
    "    # Return the value of the polynomial\n",
    "     return f(x) * 0.05\n",
    "    \n",
    "\n",
    "# Create the domain space\n",
    "    space = hp.uniform('x', -5, 6)\n",
    "\n",
    "\n",
    "# Space over which to evluate the function is -5 to 6\n",
    "\n",
    "    y = objective(x)\n",
    "\n",
    "    miny = min(y)\n",
    "    minx = x[np.argmin(y)]\n",
    "\n",
    "# Create the algorithm\n",
    "    tpe_algo = tpe.suggest\n",
    "\n",
    "\n",
    "# Create a trials object\n",
    "    tpe_trials = Trials()\n",
    "\n",
    "\n",
    "\n",
    "# Run 2000 evals with the tpe algorithm\n",
    "tpe_best = fmin(fn=objective, space=space, \n",
    "                algo=tpe_algo, trials=tpe_trials, \n",
    "                max_evals=2000)\n",
    "\n",
    "print(tpe_best)\n",
    "\n",
    "# Dataframe of results from optimization\n",
    "# tpe_results = pd.DataFrame({'loss': [x['loss'] for x in tpe_trials.results], \n",
    "#                             'iteration': tpe_trials.idxs_vals[0]['x'],\n",
    "#                             'x': tpe_trials.idxs_vals[1]['x']})\n",
    "                            \n",
    "# tpe_results.head()\n",
    "\n",
    "# plt.figure(figsize = (10, 8))\n",
    "# plt.plot(tpe_results['iteration'], tpe_results['x'],  'bo', alpha = 0.5);\n",
    "# plt.xlabel('Iteration', size = 22); plt.ylabel('x value', size = 22); plt.title('TPE Sequence of Values', size = 24);\n",
    "# plt.hlines(minx, 0, 2000, linestyles = '--', colors = 'r');\n",
    "# plt.show()\n",
    "\n",
    "# plt.figure(figsize = (8, 6))\n",
    "# plt.hist(tpe_results['x'], bins = 50, edgecolor = 'k');\n",
    "# plt.title('Histogram of TPE Values'); plt.xlabel('Value of x'); plt.ylabel('Count');\n",
    "# plt.show()"
   ]
  },
  {
   "cell_type": "code",
   "execution_count": 101,
   "metadata": {},
   "outputs": [
    {
     "name": "stdout",
     "output_type": "stream",
     "text": [
      "Warning: Maximum number of function evaluations has been exceeded.\n",
      "[ 1.81195841e-01 -6.52304860e-46]\n"
     ]
    }
   ],
   "source": [
    "import scipy.optimize as opt\n",
    "import numpy as np\n",
    "\n",
    "def objfunc(p):\n",
    "    x = np.linspace(-0.1, 0.1)\n",
    "    y = np.linspace(-0.1, 0.1)\n",
    "    x,y=p \n",
    "    z= 34.9066*(9.7*x**2+13.4*x*(y-0.04)+9.5*(y-0.04)**2)+6.95*(34.9066*(x**2)/(y**2)+ 0.5* np.sin(69.8132*y)*(x**2)/(y**3)-0.0573*((np.sin(34.9066*y))**2)*(x**2)/(y**4))\n",
    "    return z\n",
    "\n",
    "initialpoint=(0.1,0.00001)\n",
    "\n",
    "result=opt.fmin(objfunc,initialpoint)\n",
    "\n",
    "print(result)"
   ]
  },
  {
   "cell_type": "code",
   "execution_count": 96,
   "metadata": {},
   "outputs": [
    {
     "name": "stdout",
     "output_type": "stream",
     "text": [
      "Optimization terminated successfully.\n",
      "         Current function value: 0.000000\n",
      "         Iterations: 6\n",
      "         Function evaluations: 128\n",
      "[-2.37866009e-17  4.00000000e-02]\n"
     ]
    }
   ],
   "source": [
    "import scipy.optimize as opt\n",
    "import numpy as np\n",
    "\n",
    "\n",
    "def obj_func(p):\n",
    "    x,y=p\n",
    "    z= 34.9066*(9.7*x**2+13.4*x*(y-0.04)+9.5*(y-0.04)**2)+6.95*(34.9066*(x**2)/(y**2)+ 0.5* np.sin(69.8132*y)*(x**2)/(y**3)-0.0573*((np.sin(34.9066*y))**2)*(x**2)/(y**4))\n",
    "    points.append((x,y,z))\n",
    "    return z\n",
    "\n",
    "init_point=(0.02778,0.01)\n",
    "\n",
    "#这两种优化方法没用到偏导\n",
    "\n",
    "result=opt.fmin_powell(obj_func,init_point)\n",
    "print(result)"
   ]
  },
  {
   "cell_type": "code",
   "execution_count": null,
   "metadata": {},
   "outputs": [],
   "source": []
  },
  {
   "cell_type": "code",
   "execution_count": null,
   "metadata": {
    "collapsed": true
   },
   "outputs": [],
   "source": []
  }
 ],
 "metadata": {
  "kernelspec": {
   "display_name": "Python 3",
   "language": "python",
   "name": "python3"
  },
  "language_info": {
   "codemirror_mode": {
    "name": "ipython",
    "version": 3
   },
   "file_extension": ".py",
   "mimetype": "text/x-python",
   "name": "python",
   "nbconvert_exporter": "python",
   "pygments_lexer": "ipython3",
   "version": "3.6.3"
  }
 },
 "nbformat": 4,
 "nbformat_minor": 2
}
