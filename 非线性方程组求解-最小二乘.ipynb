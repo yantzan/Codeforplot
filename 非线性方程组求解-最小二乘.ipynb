{
 "cells": [
  {
   "cell_type": "code",
   "execution_count": 1,
   "metadata": {
    "collapsed": true
   },
   "outputs": [],
   "source": [
    "from scipy import optimize\n",
    "import math\n",
    "\n",
    "def func(x):\n",
    "    u0,u1,u2 = x.tolist()\n",
    "    return [\n",
    "        5 * u1 +3,\n",
    "        4 * u0 * u0 - 2 * math.sin(u1 * u2),\n",
    "        u1 * u2 - 1.5\n",
    "    ]\n",
    "result = optimize.fsolve(func,[1,1,1])"
   ]
  },
  {
   "cell_type": "code",
   "execution_count": 2,
   "metadata": {},
   "outputs": [
    {
     "name": "stdout",
     "output_type": "stream",
     "text": [
      "[-0.70622057 -0.6        -2.5       ]\n"
     ]
    }
   ],
   "source": [
    "print(result)"
   ]
  },
  {
   "cell_type": "code",
   "execution_count": 4,
   "metadata": {},
   "outputs": [
    {
     "name": "stdout",
     "output_type": "stream",
     "text": [
      "1.0\n",
      "3.0\n"
     ]
    }
   ],
   "source": [
    "import numpy as np\n",
    "from scipy import optimize\n",
    "X = np.array([1,2,3,4,5,6,7])\n",
    "Y = np.array([4,5,6,7,8,9,10])\n",
    "\n",
    "def func(p):\n",
    "    k,b = p\n",
    "    return Y - (k * X + b)\n",
    "\n",
    "r = optimize.leastsq(func,[1,1])\n",
    "k,b = r[0]\n",
    "print(k)\n",
    "print(b)"
   ]
  },
  {
   "cell_type": "code",
   "execution_count": null,
   "metadata": {
    "collapsed": true
   },
   "outputs": [],
   "source": []
  }
 ],
 "metadata": {
  "kernelspec": {
   "display_name": "Python 3",
   "language": "python",
   "name": "python3"
  },
  "language_info": {
   "codemirror_mode": {
    "name": "ipython",
    "version": 3
   },
   "file_extension": ".py",
   "mimetype": "text/x-python",
   "name": "python",
   "nbconvert_exporter": "python",
   "pygments_lexer": "ipython3",
   "version": "3.6.3"
  }
 },
 "nbformat": 4,
 "nbformat_minor": 2
}
