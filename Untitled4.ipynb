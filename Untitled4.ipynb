{
 "cells": [
  {
   "cell_type": "code",
   "execution_count": 1,
   "metadata": {},
   "outputs": [
    {
     "ename": "ModuleNotFoundError",
     "evalue": "No module named 'wordcloud'",
     "output_type": "error",
     "traceback": [
      "\u001b[1;31m---------------------------------------------------------------------------\u001b[0m",
      "\u001b[1;31mModuleNotFoundError\u001b[0m                       Traceback (most recent call last)",
      "\u001b[1;32m<ipython-input-1-98352bbf9d45>\u001b[0m in \u001b[0;36m<module>\u001b[1;34m()\u001b[0m\n\u001b[0;32m      2\u001b[0m \u001b[1;32mimport\u001b[0m \u001b[0mmatplotlib\u001b[0m\u001b[1;33m.\u001b[0m\u001b[0mpyplot\u001b[0m \u001b[1;32mas\u001b[0m \u001b[0mplt\u001b[0m\u001b[1;33m\u001b[0m\u001b[0m\n\u001b[0;32m      3\u001b[0m \u001b[1;32mimport\u001b[0m \u001b[0mpickle\u001b[0m\u001b[1;33m\u001b[0m\u001b[0m\n\u001b[1;32m----> 4\u001b[1;33m \u001b[1;32mfrom\u001b[0m \u001b[0mwordcloud\u001b[0m \u001b[1;32mimport\u001b[0m \u001b[0mWordCloud\u001b[0m\u001b[1;33m,\u001b[0m\u001b[0mSTOPWORDS\u001b[0m\u001b[1;33m,\u001b[0m\u001b[0mImageColorGenerator\u001b[0m\u001b[1;33m\u001b[0m\u001b[0m\n\u001b[0m\u001b[0;32m      5\u001b[0m \u001b[1;32mimport\u001b[0m \u001b[0mjieba\u001b[0m\u001b[1;33m\u001b[0m\u001b[0m\n\u001b[0;32m      6\u001b[0m \u001b[1;31m# import codecs\u001b[0m\u001b[1;33m\u001b[0m\u001b[1;33m\u001b[0m\u001b[0m\n",
      "\u001b[1;31mModuleNotFoundError\u001b[0m: No module named 'wordcloud'"
     ]
    }
   ],
   "source": [
    "# -*- coding: utf-8 -*-\n",
    "import matplotlib.pyplot as plt\n",
    "import pickle\n",
    "from wordcloud import WordCloud,STOPWORDS,ImageColorGenerator\n",
    "import jieba\n",
    "# import codecs\n",
    "\n",
    "# fin = codecs.open('HotelComments.txt',mode = 'r', encoding = 'utf-8')\n",
    "# print fin.read()\n",
    "\n",
    "# 第一次运行程序时将分好的词存入文件\n",
    "# text = ''\n",
    "# with open('HotelComments.txt') as fin:\n",
    "#     for line in fin.readlines():\n",
    "#         line = line.strip('\\n')\n",
    "#         text += ' '.join(jieba.cut(line))\n",
    "#         text += ' '\n",
    "# fout = open('text.txt','wb')\n",
    "# pickle.dump(text,fout)\n",
    "# fout.close()\n",
    "\n",
    "# 直接从文件读取数据\n",
    "fr = open('text.txt','rb')\n",
    "text = pickle.load(fr)\n",
    "\n",
    "backgroud_Image = plt.imread('girl.jpg')\n",
    "wc = WordCloud( background_color = 'white',    # 设置背景颜色\n",
    "                mask = backgroud_Image,        # 设置背景图片\n",
    "                max_words = 2000,            # 设置最大现实的字数\n",
    "                stopwords = STOPWORDS,        # 设置停用词\n",
    "                font_path = 'C:/Users/Windows/fonts/msyh.ttf',# 设置字体格式，如不设置显示不了中文\n",
    "                max_font_size = 50,            # 设置字体最大值\n",
    "                random_state = 30,            # 设置有多少种随机生成状态，即有多少种配色方案\n",
    "                )\n",
    "wc.generate(text)\n",
    "image_colors = ImageColorGenerator(backgroud_Image)\n",
    "wc.recolor(color_func = image_colors)\n",
    "plt.imshow(wc)\n",
    "plt.axis('off')\n",
    "plt.show()"
   ]
  },
  {
   "cell_type": "code",
   "execution_count": null,
   "metadata": {
    "collapsed": true
   },
   "outputs": [],
   "source": []
  }
 ],
 "metadata": {
  "kernelspec": {
   "display_name": "Python 3",
   "language": "python",
   "name": "python3"
  },
  "language_info": {
   "codemirror_mode": {
    "name": "ipython",
    "version": 3
   },
   "file_extension": ".py",
   "mimetype": "text/x-python",
   "name": "python",
   "nbconvert_exporter": "python",
   "pygments_lexer": "ipython3",
   "version": "3.6.3"
  }
 },
 "nbformat": 4,
 "nbformat_minor": 2
}
