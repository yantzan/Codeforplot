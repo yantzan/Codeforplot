{
 "cells": [
  {
   "cell_type": "code",
   "execution_count": 1,
   "metadata": {
    "collapsed": true
   },
   "outputs": [],
   "source": [
    "import requests\n",
    "from bs4 import BeautifulSoup\n",
    "for i in range(0,980,20):\n",
    "    url = 'https://book.douban.com/tag/%E5%B0%8F%E8%AF%B4'+'?start=%d&type=T'%i\n",
    "    douban_data = requests.get(url)\n",
    "    soup = BeautifulSoup(douban_data.text,'lxml')\n",
    "    titles = soup.select('#subject_list> ul > li > div.info > h2 > a')\n",
    "    prices = soup.select('div.pub')\n",
    "    stars = soup.select('#subject_list> ul > li > div.info > div.star.clearfix > span.rating_nums')\n",
    "    for title,price,star in zip(titles,prices,stars):\n",
    "        data = {\n",
    "            'title': title.get_text().strip().split()[0],\n",
    "            'price': price.get_text().strip().split('/')[-1],\n",
    "            'star': float(star.get_text())\n",
    "        }\n",
    "        print(data)"
   ]
  },
  {
   "cell_type": "code",
   "execution_count": null,
   "metadata": {
    "collapsed": true
   },
   "outputs": [],
   "source": []
  }
 ],
 "metadata": {
  "kernelspec": {
   "display_name": "Python 3",
   "language": "python",
   "name": "python3"
  },
  "language_info": {
   "codemirror_mode": {
    "name": "ipython",
    "version": 3
   },
   "file_extension": ".py",
   "mimetype": "text/x-python",
   "name": "python",
   "nbconvert_exporter": "python",
   "pygments_lexer": "ipython3",
   "version": "3.6.3"
  }
 },
 "nbformat": 4,
 "nbformat_minor": 2
}
