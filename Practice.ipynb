{
 "cells": [
  {
   "cell_type": "code",
   "execution_count": 1,
   "metadata": {},
   "outputs": [
    {
     "name": "stdout",
     "output_type": "stream",
     "text": [
      "请输入数据：\n",
      "3\n",
      "请输入数据：\n",
      "5\n",
      "请输入数据：\n",
      "2\n",
      "[2, 3, 5]\n"
     ]
    }
   ],
   "source": [
    "L = []\n",
    "for i in range(3):\n",
    "    x = int(input(\"请输入数据：\\n\"))\n",
    "    L.append(x)\n",
    "L.sort()\n",
    "print(L)"
   ]
  },
  {
   "cell_type": "code",
   "execution_count": 2,
   "metadata": {},
   "outputs": [
    {
     "name": "stdout",
     "output_type": "stream",
     "text": [
      "1 * 1 = 1 \t\n",
      "2 * 1 = 2 \t2 * 2 = 4 \t\n",
      "3 * 1 = 3 \t3 * 2 = 6 \t3 * 3 = 9 \t\n",
      "4 * 1 = 4 \t4 * 2 = 8 \t4 * 3 = 12 \t4 * 4 = 16 \t\n",
      "5 * 1 = 5 \t5 * 2 = 10 \t5 * 3 = 15 \t5 * 4 = 20 \t5 * 5 = 25 \t\n",
      "6 * 1 = 6 \t6 * 2 = 12 \t6 * 3 = 18 \t6 * 4 = 24 \t6 * 5 = 30 \t6 * 6 = 36 \t\n",
      "7 * 1 = 7 \t7 * 2 = 14 \t7 * 3 = 21 \t7 * 4 = 28 \t7 * 5 = 35 \t7 * 6 = 42 \t7 * 7 = 49 \t\n",
      "8 * 1 = 8 \t8 * 2 = 16 \t8 * 3 = 24 \t8 * 4 = 32 \t8 * 5 = 40 \t8 * 6 = 48 \t8 * 7 = 56 \t8 * 8 = 64 \t\n",
      "9 * 1 = 9 \t9 * 2 = 18 \t9 * 3 = 27 \t9 * 4 = 36 \t9 * 5 = 45 \t9 * 6 = 54 \t9 * 7 = 63 \t9 * 8 = 72 \t9 * 9 = 81 \t\n"
     ]
    }
   ],
   "source": [
    "for i in range(1,10):\n",
    "    for j in range(1,i+1):\n",
    "        a = i * j\n",
    "        print ('%d * %d = %d '% (i,j,a),end = '\\t')\n",
    "    print()"
   ]
  },
  {
   "cell_type": "code",
   "execution_count": 3,
   "metadata": {},
   "outputs": [
    {
     "name": "stdout",
     "output_type": "stream",
     "text": [
      "1 2 3\n",
      "1 2 4\n",
      "1 3 2\n",
      "1 3 4\n",
      "1 4 2\n",
      "1 4 3\n",
      "2 1 3\n",
      "2 1 4\n",
      "2 3 1\n",
      "2 3 4\n",
      "2 4 1\n",
      "2 4 3\n",
      "3 1 2\n",
      "3 1 4\n",
      "3 2 1\n",
      "3 2 4\n",
      "3 4 1\n",
      "3 4 2\n",
      "4 1 2\n",
      "4 1 3\n",
      "4 2 1\n",
      "4 2 3\n",
      "4 3 1\n",
      "4 3 2\n"
     ]
    }
   ],
   "source": [
    "for i in range(1,5):\n",
    "    for j in range(1,5):\n",
    "        for k in range(1,5):\n",
    "            if i != j and i!= k and j != k:\n",
    "                print(i,j,k)"
   ]
  },
  {
   "cell_type": "code",
   "execution_count": null,
   "metadata": {
    "collapsed": true
   },
   "outputs": [],
   "source": []
  }
 ],
 "metadata": {
  "kernelspec": {
   "display_name": "Python 3",
   "language": "python",
   "name": "python3"
  },
  "language_info": {
   "codemirror_mode": {
    "name": "ipython",
    "version": 3
   },
   "file_extension": ".py",
   "mimetype": "text/x-python",
   "name": "python",
   "nbconvert_exporter": "python",
   "pygments_lexer": "ipython3",
   "version": "3.6.3"
  }
 },
 "nbformat": 4,
 "nbformat_minor": 2
}
