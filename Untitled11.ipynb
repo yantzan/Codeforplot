{
 "cells": [
  {
   "cell_type": "code",
   "execution_count": null,
   "metadata": {
    "collapsed": true
   },
   "outputs": [],
   "source": [
    "from PIL import Image\n",
    "import matplotlib.pyplot as plt\n",
    "img = Image.open(\"1-1.tif\") \n",
    "height = img.size[0]\n",
    "width = img.size[1]\n",
    "for i in range(0, 700):\n",
    "      for j in range(0, 525):\n",
    "                \n",
    "        r,g,b = img.getpixel((i,j))\n",
    "        if(0<=b<=210 and 0<=g<=210 and 0<=r<=210): #对黑色进灰色行判断\n",
    "            b=255\n",
    "            g=255\n",
    "            r=255\n",
    "         \n",
    "        img.putpixel((i,j), (r,g,b)) \n",
    "img.save('1-1-1.tif')        \n",
    "img.show()"
   ]
  }
 ],
 "metadata": {
  "kernelspec": {
   "display_name": "Python 3",
   "language": "python",
   "name": "python3"
  },
  "language_info": {
   "codemirror_mode": {
    "name": "ipython",
    "version": 3
   },
   "file_extension": ".py",
   "mimetype": "text/x-python",
   "name": "python",
   "nbconvert_exporter": "python",
   "pygments_lexer": "ipython3",
   "version": "3.6.3"
  }
 },
 "nbformat": 4,
 "nbformat_minor": 2
}
